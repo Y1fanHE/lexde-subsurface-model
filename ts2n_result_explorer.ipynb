{
 "cells": [
  {
   "cell_type": "code",
   "execution_count": 1,
   "id": "3b2b1d32-ad55-4c4a-8afd-8cefc2cdd27e",
   "metadata": {
    "execution": {
     "iopub.execute_input": "2021-10-07T16:10:47.247511Z",
     "iopub.status.busy": "2021-10-07T16:10:47.235949Z",
     "iopub.status.idle": "2021-10-07T16:10:48.297032Z",
     "shell.execute_reply": "2021-10-07T16:10:48.296394Z"
    }
   },
   "outputs": [],
   "source": [
    "# Import all neccessary libraries\n",
    "# table data handling\n",
    "import numpy as np\n",
    "import pandas as pd\n",
    "from sklearn.preprocessing import MinMaxScaler\n",
    "# multiobjective optimization related\n",
    "from pymoo.util.nds.fast_non_dominated_sort import fast_non_dominated_sort as ndsort\n",
    "from pymoo.factory import get_performance_indicator\n",
    "# plotting\n",
    "import matplotlib.pyplot as plt\n",
    "import seaborn as sns\n",
    "import utils\n",
    "# others\n",
    "from tqdm import tqdm"
   ]
  },
  {
   "cell_type": "code",
   "execution_count": 2,
   "id": "d77c809a-1f41-4a0b-8a8f-ac56a5bc875f",
   "metadata": {
    "execution": {
     "iopub.execute_input": "2021-10-07T16:10:48.301940Z",
     "iopub.status.busy": "2021-10-07T16:10:48.301310Z",
     "iopub.status.idle": "2021-10-07T16:10:48.303207Z",
     "shell.execute_reply": "2021-10-07T16:10:48.303734Z"
    }
   },
   "outputs": [],
   "source": [
    "sns.set_theme(style=\"white\", palette=\"bright\")\n",
    "sns.set_context(\"paper\", font_scale=1.5, rc={\"lines.linewidth\": 2})"
   ]
  },
  {
   "cell_type": "markdown",
   "id": "76b63067-4820-492a-b135-2ae1ee9b1f3e",
   "metadata": {},
   "source": [
    "## Read Data"
   ]
  },
  {
   "cell_type": "code",
   "execution_count": 3,
   "id": "4f065d4f-80d2-4018-aa52-d9097e1cdab0",
   "metadata": {
    "execution": {
     "iopub.execute_input": "2021-10-07T16:10:48.309079Z",
     "iopub.status.busy": "2021-10-07T16:10:48.308315Z",
     "iopub.status.idle": "2021-10-07T16:10:48.310945Z",
     "shell.execute_reply": "2021-10-07T16:10:48.310416Z"
    },
    "tags": []
   },
   "outputs": [],
   "source": [
    "# Read data of ts2n problem\n",
    "method_file_names = ['Lex-DE', 'NSGA-II', 'RVEA']\n",
    "method_names = ['Lex-DE', 'NSGA-II', 'RVEA']\n",
    "reps = [1,2,3,4,5]\n",
    "\n",
    "objective_sim_names = [f'fit_{i}' for i in range(5)]\n",
    "objective_cod_names = ['FOPT', 'FWPT', 'FOPR', 'FWPR', 'FGPR']\n",
    "\n",
    "parameter_names = [\n",
    "    'POROSITY', 'WOC', 'COMPRESS',\n",
    "    'PERMXL1', 'PERMXL2', 'PERMXL3', 'PERMXL4', 'PERMXL5',\n",
    "    'PERMZL1', 'PERMZL2', 'PERMZL3', 'PERMZL4', 'PERMZL5'\n",
    "]"
   ]
  },
  {
   "cell_type": "code",
   "execution_count": 4,
   "id": "9a161eab-551d-4b88-bd89-6d5d2c13cf89",
   "metadata": {
    "execution": {
     "iopub.execute_input": "2021-10-07T16:10:48.317270Z",
     "iopub.status.busy": "2021-10-07T16:10:48.316646Z",
     "iopub.status.idle": "2021-10-07T16:11:17.758920Z",
     "shell.execute_reply": "2021-10-07T16:11:17.759462Z"
    },
    "tags": []
   },
   "outputs": [
    {
     "name": "stderr",
     "output_type": "stream",
     "text": [
      "3it [00:29,  9.80s/it]\n"
     ]
    },
    {
     "data": {
      "text/html": [
       "<div>\n",
       "<style scoped>\n",
       "    .dataframe tbody tr th:only-of-type {\n",
       "        vertical-align: middle;\n",
       "    }\n",
       "\n",
       "    .dataframe tbody tr th {\n",
       "        vertical-align: top;\n",
       "    }\n",
       "\n",
       "    .dataframe thead th {\n",
       "        text-align: right;\n",
       "    }\n",
       "</style>\n",
       "<table border=\"1\" class=\"dataframe\">\n",
       "  <thead>\n",
       "    <tr style=\"text-align: right;\">\n",
       "      <th></th>\n",
       "      <th>eval</th>\n",
       "      <th>gen</th>\n",
       "      <th>ind</th>\n",
       "      <th>POROSITY</th>\n",
       "      <th>WOC</th>\n",
       "      <th>COMPRESS</th>\n",
       "      <th>PERMXL1</th>\n",
       "      <th>PERMXL2</th>\n",
       "      <th>PERMXL3</th>\n",
       "      <th>PERMXL4</th>\n",
       "      <th>...</th>\n",
       "      <th>FOPT</th>\n",
       "      <th>FOPR</th>\n",
       "      <th>fit_0</th>\n",
       "      <th>fit_1</th>\n",
       "      <th>fit_2</th>\n",
       "      <th>fit_3</th>\n",
       "      <th>fit_4</th>\n",
       "      <th>Method</th>\n",
       "      <th>Repetition</th>\n",
       "      <th>is_nd</th>\n",
       "    </tr>\n",
       "  </thead>\n",
       "  <tbody>\n",
       "    <tr>\n",
       "      <th>0</th>\n",
       "      <td>1.0</td>\n",
       "      <td>1.0</td>\n",
       "      <td>0.0</td>\n",
       "      <td>0.329662</td>\n",
       "      <td>4903.930894</td>\n",
       "      <td>0.000087</td>\n",
       "      <td>201.487264</td>\n",
       "      <td>433.164972</td>\n",
       "      <td>394.243378</td>\n",
       "      <td>129.760609</td>\n",
       "      <td>...</td>\n",
       "      <td>207535.587073</td>\n",
       "      <td>202.785435</td>\n",
       "      <td>207535.587073</td>\n",
       "      <td>142495.219915</td>\n",
       "      <td>202.785435</td>\n",
       "      <td>264.002974</td>\n",
       "      <td>131.857877</td>\n",
       "      <td>Lex-DE</td>\n",
       "      <td>0</td>\n",
       "      <td>False</td>\n",
       "    </tr>\n",
       "    <tr>\n",
       "      <th>1</th>\n",
       "      <td>2.0</td>\n",
       "      <td>1.0</td>\n",
       "      <td>1.0</td>\n",
       "      <td>0.370714</td>\n",
       "      <td>4881.605625</td>\n",
       "      <td>0.000083</td>\n",
       "      <td>203.508600</td>\n",
       "      <td>444.164973</td>\n",
       "      <td>373.246040</td>\n",
       "      <td>103.508060</td>\n",
       "      <td>...</td>\n",
       "      <td>95440.579512</td>\n",
       "      <td>93.256142</td>\n",
       "      <td>95440.579512</td>\n",
       "      <td>65530.097449</td>\n",
       "      <td>93.256142</td>\n",
       "      <td>121.408448</td>\n",
       "      <td>60.638199</td>\n",
       "      <td>Lex-DE</td>\n",
       "      <td>0</td>\n",
       "      <td>False</td>\n",
       "    </tr>\n",
       "    <tr>\n",
       "      <th>2</th>\n",
       "      <td>3.0</td>\n",
       "      <td>1.0</td>\n",
       "      <td>2.0</td>\n",
       "      <td>0.350213</td>\n",
       "      <td>4917.577726</td>\n",
       "      <td>0.000082</td>\n",
       "      <td>206.777737</td>\n",
       "      <td>364.627371</td>\n",
       "      <td>417.191602</td>\n",
       "      <td>88.310015</td>\n",
       "      <td>...</td>\n",
       "      <td>247530.886341</td>\n",
       "      <td>241.864976</td>\n",
       "      <td>247530.886341</td>\n",
       "      <td>169956.108156</td>\n",
       "      <td>241.864976</td>\n",
       "      <td>314.880051</td>\n",
       "      <td>157.268769</td>\n",
       "      <td>Lex-DE</td>\n",
       "      <td>0</td>\n",
       "      <td>False</td>\n",
       "    </tr>\n",
       "  </tbody>\n",
       "</table>\n",
       "<p>3 rows × 29 columns</p>\n",
       "</div>"
      ],
      "text/plain": [
       "   eval  gen  ind  POROSITY          WOC  COMPRESS     PERMXL1     PERMXL2  \\\n",
       "0   1.0  1.0  0.0  0.329662  4903.930894  0.000087  201.487264  433.164972   \n",
       "1   2.0  1.0  1.0  0.370714  4881.605625  0.000083  203.508600  444.164973   \n",
       "2   3.0  1.0  2.0  0.350213  4917.577726  0.000082  206.777737  364.627371   \n",
       "\n",
       "      PERMXL3     PERMXL4  ...           FOPT        FOPR          fit_0  \\\n",
       "0  394.243378  129.760609  ...  207535.587073  202.785435  207535.587073   \n",
       "1  373.246040  103.508060  ...   95440.579512   93.256142   95440.579512   \n",
       "2  417.191602   88.310015  ...  247530.886341  241.864976  247530.886341   \n",
       "\n",
       "           fit_1       fit_2       fit_3       fit_4  Method  Repetition  \\\n",
       "0  142495.219915  202.785435  264.002974  131.857877  Lex-DE           0   \n",
       "1   65530.097449   93.256142  121.408448   60.638199  Lex-DE           0   \n",
       "2  169956.108156  241.864976  314.880051  157.268769  Lex-DE           0   \n",
       "\n",
       "   is_nd  \n",
       "0  False  \n",
       "1  False  \n",
       "2  False  \n",
       "\n",
       "[3 rows x 29 columns]"
      ]
     },
     "execution_count": 4,
     "metadata": {},
     "output_type": "execute_result"
    }
   ],
   "source": [
    "ts2n_hdfs = []\n",
    "for i, method_file_name in tqdm(enumerate(method_file_names)):\n",
    "    for j, rep in enumerate(reps):\n",
    "        tmp = pd.read_hdf(f'ts2n/{method_file_name}{rep}.hdf5').sort_values(['eval'], ignore_index=True)\n",
    "        tmp['Method'] = method_names[i] # specify the method\n",
    "        tmp['Repetition'] = j           # specify the repetition\n",
    "        tmp_obj_val = tmp[objective_sim_names].values\n",
    "        nd_idx = ndsort(tmp_obj_val)[0]\n",
    "        is_nd = np.array([False]*len(tmp))\n",
    "        is_nd[nd_idx] = True\n",
    "        tmp['is_nd'] = list(is_nd)      # specify whether the individual is non-dominated\n",
    "        ts2n_hdfs.append(tmp)\n",
    "ts2n_dat = pd.concat(ts2n_hdfs).sort_values(['Method','Repetition','eval'])\n",
    "ts2n_dat.head(3)"
   ]
  },
  {
   "cell_type": "markdown",
   "id": "0e7fe411-7e97-4358-b2aa-2254b61cd967",
   "metadata": {
    "tags": []
   },
   "source": [
    "## Preprocessing\n",
    "\n",
    "1. scale the five objective values into $[0,1]$ based on all individuals\n",
    "2. scale the five objective values into $[0,1]$ based on non-dominated individuals\n",
    "3. scale the 13 parameter values into $[0,1]$ based on all individuals"
   ]
  },
  {
   "cell_type": "code",
   "execution_count": 5,
   "id": "410dc33f-2582-40e8-8033-2705b03790bb",
   "metadata": {
    "execution": {
     "iopub.execute_input": "2021-10-07T16:11:17.768136Z",
     "iopub.status.busy": "2021-10-07T16:11:17.767467Z",
     "iopub.status.idle": "2021-10-07T16:11:19.440819Z",
     "shell.execute_reply": "2021-10-07T16:11:19.440260Z"
    }
   },
   "outputs": [],
   "source": [
    "# Scale the objective values and parameter values between 0 and 1\n",
    "scaler = MinMaxScaler()\n",
    "\n",
    "# scale by all individuals in 3 methods x 5 repetitions x 1500 evaluations\n",
    "ts2n_fit_scaled_by_all = scaler.fit_transform(ts2n_dat[objective_sim_names].to_numpy())\n",
    "ts2n_fit_scaled_by_all = pd.DataFrame(ts2n_fit_scaled_by_all, columns=[f'{item}_scaled_by_all' for item in objective_sim_names])\n",
    "\n",
    "# scale by all individuals in 3 methods x 5 repetitions x number of non-dominated individuals\n",
    "ts2n_fit_scaled_by_nd = scaler.fit(ts2n_dat[ts2n_dat.is_nd][objective_sim_names].to_numpy()).transform(ts2n_dat[objective_sim_names].to_numpy())\n",
    "ts2n_fit_scaled_by_nd = pd.DataFrame(ts2n_fit_scaled_by_nd, columns=[f'{item}_scaled_by_nd' for item in objective_sim_names])\n",
    "\n",
    "# scale by all individuals in 3 methods x 5 repetitions x 2000 evaluations\n",
    "ts2n_param_scaled_by_all = scaler.fit(ts2n_dat[parameter_names].to_numpy()).transform(ts2n_dat[parameter_names].to_numpy())\n",
    "ts2n_param_scaled_by_all = pd.DataFrame(ts2n_param_scaled_by_all, columns=[f'{item}_scaled_by_all' for item in parameter_names])\n",
    "\n",
    "ts2n_dat_processed = pd.concat([\n",
    "    ts2n_dat.reset_index(drop=True),\n",
    "    ts2n_fit_scaled_by_all.reset_index(drop=True),\n",
    "    ts2n_param_scaled_by_all.reset_index(drop=True),\n",
    "    ts2n_fit_scaled_by_nd.reset_index(drop=True)\n",
    "], axis=1)\n",
    "\n",
    "ts2n_dat_processed.to_csv('ts2n.processed.csv', index=False) # save to csv"
   ]
  },
  {
   "cell_type": "code",
   "execution_count": 6,
   "id": "1ecd6812-3ea5-451c-b472-bc12455fca20",
   "metadata": {
    "execution": {
     "iopub.execute_input": "2021-10-07T16:11:19.445828Z",
     "iopub.status.busy": "2021-10-07T16:11:19.445163Z",
     "iopub.status.idle": "2021-10-07T16:11:19.715626Z",
     "shell.execute_reply": "2021-10-07T16:11:19.716198Z"
    }
   },
   "outputs": [
    {
     "data": {
      "text/html": [
       "<div>\n",
       "<style scoped>\n",
       "    .dataframe tbody tr th:only-of-type {\n",
       "        vertical-align: middle;\n",
       "    }\n",
       "\n",
       "    .dataframe tbody tr th {\n",
       "        vertical-align: top;\n",
       "    }\n",
       "\n",
       "    .dataframe thead th {\n",
       "        text-align: right;\n",
       "    }\n",
       "</style>\n",
       "<table border=\"1\" class=\"dataframe\">\n",
       "  <thead>\n",
       "    <tr style=\"text-align: right;\">\n",
       "      <th></th>\n",
       "      <th>eval</th>\n",
       "      <th>gen</th>\n",
       "      <th>ind</th>\n",
       "      <th>POROSITY</th>\n",
       "      <th>WOC</th>\n",
       "      <th>COMPRESS</th>\n",
       "      <th>PERMXL1</th>\n",
       "      <th>PERMXL2</th>\n",
       "      <th>PERMXL3</th>\n",
       "      <th>PERMXL4</th>\n",
       "      <th>...</th>\n",
       "      <th>PERMZL1_scaled_by_all</th>\n",
       "      <th>PERMZL2_scaled_by_all</th>\n",
       "      <th>PERMZL3_scaled_by_all</th>\n",
       "      <th>PERMZL4_scaled_by_all</th>\n",
       "      <th>PERMZL5_scaled_by_all</th>\n",
       "      <th>fit_0_scaled_by_nd</th>\n",
       "      <th>fit_1_scaled_by_nd</th>\n",
       "      <th>fit_2_scaled_by_nd</th>\n",
       "      <th>fit_3_scaled_by_nd</th>\n",
       "      <th>fit_4_scaled_by_nd</th>\n",
       "    </tr>\n",
       "  </thead>\n",
       "  <tbody>\n",
       "    <tr>\n",
       "      <th>0</th>\n",
       "      <td>1.0</td>\n",
       "      <td>1.0</td>\n",
       "      <td>0.0</td>\n",
       "      <td>0.329662</td>\n",
       "      <td>4903.930894</td>\n",
       "      <td>0.000087</td>\n",
       "      <td>201.487264</td>\n",
       "      <td>433.164972</td>\n",
       "      <td>394.243378</td>\n",
       "      <td>129.760609</td>\n",
       "      <td>...</td>\n",
       "      <td>0.442877</td>\n",
       "      <td>0.369719</td>\n",
       "      <td>0.328021</td>\n",
       "      <td>0.023362</td>\n",
       "      <td>0.082126</td>\n",
       "      <td>2.591983</td>\n",
       "      <td>2.591986</td>\n",
       "      <td>2.591983</td>\n",
       "      <td>2.591977</td>\n",
       "      <td>2.591989</td>\n",
       "    </tr>\n",
       "    <tr>\n",
       "      <th>1</th>\n",
       "      <td>2.0</td>\n",
       "      <td>1.0</td>\n",
       "      <td>1.0</td>\n",
       "      <td>0.370714</td>\n",
       "      <td>4881.605625</td>\n",
       "      <td>0.000083</td>\n",
       "      <td>203.508600</td>\n",
       "      <td>444.164973</td>\n",
       "      <td>373.246040</td>\n",
       "      <td>103.508060</td>\n",
       "      <td>...</td>\n",
       "      <td>0.093256</td>\n",
       "      <td>0.116402</td>\n",
       "      <td>0.162509</td>\n",
       "      <td>0.044268</td>\n",
       "      <td>0.177007</td>\n",
       "      <td>1.185515</td>\n",
       "      <td>1.185517</td>\n",
       "      <td>1.185516</td>\n",
       "      <td>1.185513</td>\n",
       "      <td>1.185517</td>\n",
       "    </tr>\n",
       "    <tr>\n",
       "      <th>2</th>\n",
       "      <td>3.0</td>\n",
       "      <td>1.0</td>\n",
       "      <td>2.0</td>\n",
       "      <td>0.350213</td>\n",
       "      <td>4917.577726</td>\n",
       "      <td>0.000082</td>\n",
       "      <td>206.777737</td>\n",
       "      <td>364.627371</td>\n",
       "      <td>417.191602</td>\n",
       "      <td>88.310015</td>\n",
       "      <td>...</td>\n",
       "      <td>0.497825</td>\n",
       "      <td>0.691142</td>\n",
       "      <td>0.215443</td>\n",
       "      <td>0.243123</td>\n",
       "      <td>0.045681</td>\n",
       "      <td>3.093808</td>\n",
       "      <td>3.093809</td>\n",
       "      <td>3.093804</td>\n",
       "      <td>3.093797</td>\n",
       "      <td>3.093812</td>\n",
       "    </tr>\n",
       "  </tbody>\n",
       "</table>\n",
       "<p>3 rows × 52 columns</p>\n",
       "</div>"
      ],
      "text/plain": [
       "   eval  gen  ind  POROSITY          WOC  COMPRESS     PERMXL1     PERMXL2  \\\n",
       "0   1.0  1.0  0.0  0.329662  4903.930894  0.000087  201.487264  433.164972   \n",
       "1   2.0  1.0  1.0  0.370714  4881.605625  0.000083  203.508600  444.164973   \n",
       "2   3.0  1.0  2.0  0.350213  4917.577726  0.000082  206.777737  364.627371   \n",
       "\n",
       "      PERMXL3     PERMXL4  ...  PERMZL1_scaled_by_all  PERMZL2_scaled_by_all  \\\n",
       "0  394.243378  129.760609  ...               0.442877               0.369719   \n",
       "1  373.246040  103.508060  ...               0.093256               0.116402   \n",
       "2  417.191602   88.310015  ...               0.497825               0.691142   \n",
       "\n",
       "   PERMZL3_scaled_by_all  PERMZL4_scaled_by_all  PERMZL5_scaled_by_all  \\\n",
       "0               0.328021               0.023362               0.082126   \n",
       "1               0.162509               0.044268               0.177007   \n",
       "2               0.215443               0.243123               0.045681   \n",
       "\n",
       "   fit_0_scaled_by_nd  fit_1_scaled_by_nd  fit_2_scaled_by_nd  \\\n",
       "0            2.591983            2.591986            2.591983   \n",
       "1            1.185515            1.185517            1.185516   \n",
       "2            3.093808            3.093809            3.093804   \n",
       "\n",
       "   fit_3_scaled_by_nd  fit_4_scaled_by_nd  \n",
       "0            2.591977            2.591989  \n",
       "1            1.185513            1.185517  \n",
       "2            3.093797            3.093812  \n",
       "\n",
       "[3 rows x 52 columns]"
      ]
     },
     "execution_count": 6,
     "metadata": {},
     "output_type": "execute_result"
    }
   ],
   "source": [
    "ts2n_dat_processed = pd.read_csv('ts2n.processed.csv')\n",
    "ts2n_dat_processed.head(3)"
   ]
  },
  {
   "cell_type": "markdown",
   "id": "e26e1b88-7be7-49cd-93f0-376eadde0e34",
   "metadata": {
    "tags": []
   },
   "source": [
    "## Scaled hypervolume"
   ]
  },
  {
   "cell_type": "code",
   "execution_count": 7,
   "id": "d3ba89b5-68b0-4b6a-867a-2cbb73f49847",
   "metadata": {
    "execution": {
     "iopub.execute_input": "2021-10-07T16:11:19.723205Z",
     "iopub.status.busy": "2021-10-07T16:11:19.722515Z",
     "iopub.status.idle": "2021-10-07T16:11:19.786136Z",
     "shell.execute_reply": "2021-10-07T16:11:19.785552Z"
    }
   },
   "outputs": [],
   "source": [
    "# Compute hypervolume\n",
    "with open('ts2n.hv.csv', 'w') as f:\n",
    "    print('Method', 'Repetition', 'Hypervolume', sep=',', file=f)\n",
    "hv_calculator = get_performance_indicator('hv', ref_point=np.ones(len(objective_sim_names)))\n",
    "for method_name in method_names:\n",
    "    for rep in range(len(reps)):\n",
    "        nd_ind = ts2n_dat_processed[\n",
    "            (ts2n_dat_processed.is_nd) & (ts2n_dat_processed.Method==method_name) & (ts2n_dat_processed.Repetition==rep)\n",
    "        ][[f'{item}_scaled_by_nd' for item in objective_sim_names]].values\n",
    "        with open('ts2n.hv.csv', 'a') as f:\n",
    "            print(method_name, rep, hv_calculator.do(nd_ind), sep=',', file=f)\n",
    "ts2n_hv = pd.read_csv('ts2n.hv.csv')"
   ]
  },
  {
   "cell_type": "code",
   "execution_count": 8,
   "id": "4c2e93d6-83f3-41bd-ab2f-1611a0493184",
   "metadata": {
    "execution": {
     "iopub.execute_input": "2021-10-07T16:11:19.807806Z",
     "iopub.status.busy": "2021-10-07T16:11:19.807148Z",
     "iopub.status.idle": "2021-10-07T16:11:19.810195Z",
     "shell.execute_reply": "2021-10-07T16:11:19.810726Z"
    }
   },
   "outputs": [
    {
     "data": {
      "text/html": [
       "<div>\n",
       "<style scoped>\n",
       "    .dataframe tbody tr th:only-of-type {\n",
       "        vertical-align: middle;\n",
       "    }\n",
       "\n",
       "    .dataframe tbody tr th {\n",
       "        vertical-align: top;\n",
       "    }\n",
       "\n",
       "    .dataframe thead th {\n",
       "        text-align: right;\n",
       "    }\n",
       "</style>\n",
       "<table border=\"1\" class=\"dataframe\">\n",
       "  <thead>\n",
       "    <tr style=\"text-align: right;\">\n",
       "      <th></th>\n",
       "      <th>max</th>\n",
       "      <th>argmax</th>\n",
       "      <th>median</th>\n",
       "      <th>min</th>\n",
       "      <th>mean</th>\n",
       "      <th>std</th>\n",
       "    </tr>\n",
       "    <tr>\n",
       "      <th>Method</th>\n",
       "      <th></th>\n",
       "      <th></th>\n",
       "      <th></th>\n",
       "      <th></th>\n",
       "      <th></th>\n",
       "      <th></th>\n",
       "    </tr>\n",
       "  </thead>\n",
       "  <tbody>\n",
       "    <tr>\n",
       "      <th>Lex-DE</th>\n",
       "      <td>1.000000</td>\n",
       "      <td>0</td>\n",
       "      <td>0.825542</td>\n",
       "      <td>0.323464</td>\n",
       "      <td>0.762423</td>\n",
       "      <td>0.261844</td>\n",
       "    </tr>\n",
       "    <tr>\n",
       "      <th>NSGA-II</th>\n",
       "      <td>0.952837</td>\n",
       "      <td>1</td>\n",
       "      <td>0.877889</td>\n",
       "      <td>0.413009</td>\n",
       "      <td>0.801114</td>\n",
       "      <td>0.220169</td>\n",
       "    </tr>\n",
       "    <tr>\n",
       "      <th>RVEA</th>\n",
       "      <td>0.000380</td>\n",
       "      <td>4</td>\n",
       "      <td>0.000029</td>\n",
       "      <td>0.000000</td>\n",
       "      <td>0.000150</td>\n",
       "      <td>0.000193</td>\n",
       "    </tr>\n",
       "  </tbody>\n",
       "</table>\n",
       "</div>"
      ],
      "text/plain": [
       "              max  argmax    median       min      mean       std\n",
       "Method                                                           \n",
       "Lex-DE   1.000000       0  0.825542  0.323464  0.762423  0.261844\n",
       "NSGA-II  0.952837       1  0.877889  0.413009  0.801114  0.220169\n",
       "RVEA     0.000380       4  0.000029  0.000000  0.000150  0.000193"
      ]
     },
     "execution_count": 8,
     "metadata": {},
     "output_type": "execute_result"
    }
   ],
   "source": [
    "# Get statistics\n",
    "ts2n_hv.groupby(['Method']).aggregate([max, np.argmax, np.median, min, np.mean, np.std]).Hypervolume"
   ]
  },
  {
   "cell_type": "markdown",
   "id": "b789085e-251a-4456-a526-0693188471f4",
   "metadata": {},
   "source": [
    "## Parallel coordinate graph for the non-dominated solutions in the runs with best hypervolume"
   ]
  },
  {
   "cell_type": "code",
   "execution_count": 9,
   "id": "48672cac-8d06-4a34-8dd7-e4b23aec6e0e",
   "metadata": {
    "execution": {
     "iopub.execute_input": "2021-10-07T16:11:19.833934Z",
     "iopub.status.busy": "2021-10-07T16:11:19.833276Z",
     "iopub.status.idle": "2021-10-07T16:11:19.836495Z",
     "shell.execute_reply": "2021-10-07T16:11:19.835847Z"
    }
   },
   "outputs": [
    {
     "data": {
      "text/html": [
       "<div>\n",
       "<style scoped>\n",
       "    .dataframe tbody tr th:only-of-type {\n",
       "        vertical-align: middle;\n",
       "    }\n",
       "\n",
       "    .dataframe tbody tr th {\n",
       "        vertical-align: top;\n",
       "    }\n",
       "\n",
       "    .dataframe thead th {\n",
       "        text-align: right;\n",
       "    }\n",
       "</style>\n",
       "<table border=\"1\" class=\"dataframe\">\n",
       "  <thead>\n",
       "    <tr style=\"text-align: right;\">\n",
       "      <th></th>\n",
       "      <th>Method</th>\n",
       "      <th>ID</th>\n",
       "      <th>Objective Name</th>\n",
       "      <th>Value</th>\n",
       "    </tr>\n",
       "  </thead>\n",
       "  <tbody>\n",
       "    <tr>\n",
       "      <th>0</th>\n",
       "      <td>Lex-DE</td>\n",
       "      <td>1219</td>\n",
       "      <td>fit_0_scaled_by_nd</td>\n",
       "      <td>0.000000</td>\n",
       "    </tr>\n",
       "    <tr>\n",
       "      <th>1</th>\n",
       "      <td>NSGA-II</td>\n",
       "      <td>10445</td>\n",
       "      <td>fit_0_scaled_by_nd</td>\n",
       "      <td>0.009614</td>\n",
       "    </tr>\n",
       "    <tr>\n",
       "      <th>2</th>\n",
       "      <td>RVEA</td>\n",
       "      <td>21060</td>\n",
       "      <td>fit_0_scaled_by_nd</td>\n",
       "      <td>0.793018</td>\n",
       "    </tr>\n",
       "  </tbody>\n",
       "</table>\n",
       "</div>"
      ],
      "text/plain": [
       "    Method     ID      Objective Name     Value\n",
       "0   Lex-DE   1219  fit_0_scaled_by_nd  0.000000\n",
       "1  NSGA-II  10445  fit_0_scaled_by_nd  0.009614\n",
       "2     RVEA  21060  fit_0_scaled_by_nd  0.793018"
      ]
     },
     "execution_count": 9,
     "metadata": {},
     "output_type": "execute_result"
    }
   ],
   "source": [
    "# Prepare data table for plotting parallel coordinate graph\n",
    "ts2n_dat_processed['ID'] = range(len(ts2n_dat_processed))\n",
    "ts2n_dat_processed_melt = pd.melt(\n",
    "    ts2n_dat_processed[\n",
    "        (ts2n_dat_processed.is_nd) & \\\n",
    "        (\n",
    "            (ts2n_dat_processed.Method=='Lex-DE') &(ts2n_dat_processed.Repetition==0)| \\\n",
    "            (ts2n_dat_processed.Method=='RVEA')   &(ts2n_dat_processed.Repetition==4)| \\\n",
    "            (ts2n_dat_processed.Method=='NSGA-II')&(ts2n_dat_processed.Repetition==1)\n",
    "        )\n",
    "    ],\n",
    "    id_vars     = ['Method', 'ID'],\n",
    "    value_vars  = [f'{item}_scaled_by_nd' for item in objective_sim_names],\n",
    "    var_name    = 'Objective Name',\n",
    "    value_name  = 'Value'\n",
    ")\n",
    "ts2n_dat_processed_melt.head(3)"
   ]
  },
  {
   "cell_type": "code",
   "execution_count": 10,
   "id": "79e3bd68-7ee7-4008-bb0e-998d66ae5e75",
   "metadata": {
    "execution": {
     "iopub.execute_input": "2021-10-07T16:11:19.885695Z",
     "iopub.status.busy": "2021-10-07T16:11:19.876315Z",
     "iopub.status.idle": "2021-10-07T16:11:20.186519Z",
     "shell.execute_reply": "2021-10-07T16:11:20.185981Z"
    }
   },
   "outputs": [
    {
     "name": "stderr",
     "output_type": "stream",
     "text": [
      "/tmp/ipykernel_68986/1165443329.py:10: UserWarning: FixedFormatter should only be used together with FixedLocator\n",
      "  ax.set_xticklabels(objective_cod_names)\n"
     ]
    },
    {
     "data": {
      "image/png": "[encoded data removed]",
      "text/plain": [
       "<Figure size 432x288 with 1 Axes>"
      ]
     },
     "metadata": {},
     "output_type": "display_data"
    }
   ],
   "source": [
    "sns.set_context(\"paper\", font_scale=2, rc={\"lines.linewidth\": 2, \"axes.linewidth\": 2})\n",
    "fig = plt.figure()\n",
    "ax = fig.add_subplot(111)\n",
    "plt.subplots_adjust(left=0.15, bottom=0.18, right=0.9, top=1)\n",
    "sns.lineplot(\n",
    "    data=ts2n_dat_processed_melt,\n",
    "    x='Objective Name', y='Value',\n",
    "    hue='Method', style='Method', markers=True,\n",
    "    estimator=None, units='ID')\n",
    "ax.set_xticklabels(objective_cod_names)\n",
    "plt.legend(title='', frameon=False)\n",
    "plt.savefig('ts2n.parallel.eps')"
   ]
  },
  {
   "cell_type": "markdown",
   "id": "c0da013d-2522-4889-a7d4-eaf1b9524feb",
   "metadata": {},
   "source": [
    "## Lineplot for the objectives by generations in the runs with best hypervolume"
   ]
  },
  {
   "cell_type": "code",
   "execution_count": 11,
   "id": "e2cc475a-56ea-4e88-ad74-7f1a06e51e4f",
   "metadata": {
    "execution": {
     "iopub.execute_input": "2021-10-07T16:11:20.223328Z",
     "iopub.status.busy": "2021-10-07T16:11:20.207710Z",
     "iopub.status.idle": "2021-10-07T16:11:45.766265Z",
     "shell.execute_reply": "2021-10-07T16:11:45.765737Z"
    }
   },
   "outputs": [
    {
     "data": {
      "image/png": "[encoded data removed]",
      "text/plain": [
       "<Figure size 432x288 with 1 Axes>"
      ]
     },
     "metadata": {},
     "output_type": "display_data"
    },
    {
     "data": {
      "image/png": "[encoded data removed]",
      "text/plain": [
       "<Figure size 432x288 with 1 Axes>"
      ]
     },
     "metadata": {},
     "output_type": "display_data"
    },
    {
     "data": {
      "image/png": "[encoded data removed]",
      "text/plain": [
       "<Figure size 432x288 with 1 Axes>"
      ]
     },
     "metadata": {},
     "output_type": "display_data"
    },
    {
     "data": {
      "image/png": "[encoded data removed]",
      "text/plain": [
       "<Figure size 432x288 with 1 Axes>"
      ]
     },
     "metadata": {},
     "output_type": "display_data"
    },
    {
     "data": {
      "image/png": "[encoded data removed]",
      "text/plain": [
       "<Figure size 432x288 with 1 Axes>"
      ]
     },
     "metadata": {},
     "output_type": "display_data"
    },
    {
     "data": {
      "text/plain": [
       "<Figure size 432x288 with 0 Axes>"
      ]
     },
     "metadata": {},
     "output_type": "display_data"
    }
   ],
   "source": [
    "sns.set_context(\"paper\", font_scale=2., rc={\"lines.linewidth\": 2, \"axes.linewidth\": 2})\n",
    "fig = plt.figure()\n",
    "ax = fig.add_subplot(111)\n",
    "plt.subplots_adjust(left=0.2, bottom=0.18, right=0.95, top=1)\n",
    "for i, objective_sim_name in enumerate(objective_sim_names):\n",
    "    best_fit_dats = []\n",
    "    for method_name in method_names:\n",
    "        for rep in range(len(reps)):\n",
    "            tmp = utils.best_by_gen(\n",
    "                ts2n_dat_processed[\n",
    "                    (ts2n_dat_processed.Method==method_name) & \\\n",
    "                    (ts2n_dat_processed.Repetition==rep)\n",
    "                ][f'{objective_sim_name}_scaled_by_all'].values,\n",
    "                fit_name=objective_cod_names[i]\n",
    "            )\n",
    "            tmp['Method'] = method_name\n",
    "            tmp['Repetition'] = rep \n",
    "            best_fit_dats.append(tmp)\n",
    "    best_fit_dats = pd.concat(best_fit_dats).reset_index(drop=True)\n",
    "    sns.lineplot(data=best_fit_dats,\n",
    "                 x='Generation', y=f'Best {objective_cod_names[i]}',\n",
    "                 hue='Method', style='Method',\n",
    "                 err_style=\"bars\", err_kws={\"errorevery\": 10,\n",
    "                                            \"capsize\": 5})\n",
    "    plt.yscale('log')\n",
    "    plt.legend(title='', frameon=False)\n",
    "    plt.savefig(f'ts2n.{objective_cod_names[i]}.eps')\n",
    "    plt.show()\n",
    "    plt.clf()"
   ]
  },
  {
   "cell_type": "markdown",
   "id": "1815bdbf-0072-4daf-a672-42bfc38a4b3b",
   "metadata": {},
   "source": [
    "## Scaled euclidean distance to the ground truth of the non-dominated solutions in the parameter space"
   ]
  },
  {
   "cell_type": "code",
   "execution_count": 12,
   "id": "eed84022-0541-40bd-ad10-09e5cfdd7ed8",
   "metadata": {
    "execution": {
     "iopub.execute_input": "2021-10-07T16:11:45.776293Z",
     "iopub.status.busy": "2021-10-07T16:11:45.775667Z",
     "iopub.status.idle": "2021-10-07T16:11:45.783685Z",
     "shell.execute_reply": "2021-10-07T16:11:45.783060Z"
    }
   },
   "outputs": [
    {
     "data": {
      "text/html": [
       "<div>\n",
       "<style scoped>\n",
       "    .dataframe tbody tr th:only-of-type {\n",
       "        vertical-align: middle;\n",
       "    }\n",
       "\n",
       "    .dataframe tbody tr th {\n",
       "        vertical-align: top;\n",
       "    }\n",
       "\n",
       "    .dataframe thead th {\n",
       "        text-align: right;\n",
       "    }\n",
       "</style>\n",
       "<table border=\"1\" class=\"dataframe\">\n",
       "  <thead>\n",
       "    <tr style=\"text-align: right;\">\n",
       "      <th></th>\n",
       "      <th>Parameter Name</th>\n",
       "      <th>Value</th>\n",
       "    </tr>\n",
       "  </thead>\n",
       "  <tbody>\n",
       "    <tr>\n",
       "      <th>0</th>\n",
       "      <td>POROSITY</td>\n",
       "      <td>0.558376</td>\n",
       "    </tr>\n",
       "    <tr>\n",
       "      <th>1</th>\n",
       "      <td>WOC</td>\n",
       "      <td>0.418195</td>\n",
       "    </tr>\n",
       "    <tr>\n",
       "      <th>2</th>\n",
       "      <td>COMPRESS</td>\n",
       "      <td>0.498192</td>\n",
       "    </tr>\n",
       "  </tbody>\n",
       "</table>\n",
       "</div>"
      ],
      "text/plain": [
       "  Parameter Name     Value\n",
       "0       POROSITY  0.558376\n",
       "1            WOC  0.418195\n",
       "2       COMPRESS  0.498192"
      ]
     },
     "execution_count": 12,
     "metadata": {},
     "output_type": "execute_result"
    }
   ],
   "source": [
    "ts2n_opt = pd.read_csv('ts2n.opt.dat', header=None)\n",
    "ts2n_opt.columns = ['Parameter Name', 'Value']\n",
    "ts2n_opt.index = ts2n_opt['Parameter Name']\n",
    "ts2n_opt = ts2n_opt.reindex(parameter_names).reset_index(drop=True)\n",
    "ts2n_opt_scaled = scaler.fit(ts2n_dat[parameter_names].to_numpy()).transform(ts2n_opt.Value.values.reshape(1, -1))\n",
    "ts2n_opt['Value'] = ts2n_opt_scaled.flatten()\n",
    "ts2n_opt.head(3)"
   ]
  },
  {
   "cell_type": "code",
   "execution_count": 13,
   "id": "3f1994ff-93dc-4478-9d6c-e59fd500580d",
   "metadata": {
    "execution": {
     "iopub.execute_input": "2021-10-07T16:11:45.791010Z",
     "iopub.status.busy": "2021-10-07T16:11:45.790386Z",
     "iopub.status.idle": "2021-10-07T16:11:45.843874Z",
     "shell.execute_reply": "2021-10-07T16:11:45.843242Z"
    }
   },
   "outputs": [
    {
     "name": "stderr",
     "output_type": "stream",
     "text": [
      "100%|█████████████████████████████████████████████| 3/3 [00:00<00:00, 61.38it/s]\n"
     ]
    }
   ],
   "source": [
    "dist = lambda df: np.linalg.norm(df, axis=1)\n",
    "with open('ts2n.dist.csv', 'w') as f:\n",
    "    print('Method,Repetition,Best Case,Median Case,Worst Case,Average Case', file=f)\n",
    "for method in tqdm(method_names):\n",
    "    for rep in range(len(reps)):\n",
    "        df = ts2n_dat_processed[\n",
    "            (ts2n_dat_processed.is_nd) & (ts2n_dat_processed.Method==method) & (ts2n_dat_processed.Repetition==rep)\n",
    "        ][[f'{item}_scaled_by_all' for item in parameter_names]].values - ts2n_opt.Value.values\n",
    "        with open('ts2n.dist.csv', 'a') as f:\n",
    "            print(\n",
    "                method,\n",
    "                rep,\n",
    "                np.min(dist(df)),\n",
    "                np.median(dist(df)),\n",
    "                np.max(dist(df)),\n",
    "                np.mean(dist(df)),\n",
    "                sep=',',\n",
    "                file=f\n",
    "            )"
   ]
  },
  {
   "cell_type": "code",
   "execution_count": 14,
   "id": "0ea42c22-cffe-4db0-b43d-3e645bc7284a",
   "metadata": {
    "execution": {
     "iopub.execute_input": "2021-10-07T16:11:45.860660Z",
     "iopub.status.busy": "2021-10-07T16:11:45.860032Z",
     "iopub.status.idle": "2021-10-07T16:11:45.870284Z",
     "shell.execute_reply": "2021-10-07T16:11:45.869653Z"
    }
   },
   "outputs": [
    {
     "data": {
      "text/html": [
       "<div>\n",
       "<style scoped>\n",
       "    .dataframe tbody tr th:only-of-type {\n",
       "        vertical-align: middle;\n",
       "    }\n",
       "\n",
       "    .dataframe tbody tr th {\n",
       "        vertical-align: top;\n",
       "    }\n",
       "\n",
       "    .dataframe thead th {\n",
       "        text-align: right;\n",
       "    }\n",
       "</style>\n",
       "<table border=\"1\" class=\"dataframe\">\n",
       "  <thead>\n",
       "    <tr style=\"text-align: right;\">\n",
       "      <th></th>\n",
       "      <th>amin</th>\n",
       "      <th>median</th>\n",
       "      <th>amax</th>\n",
       "      <th>mean</th>\n",
       "      <th>std</th>\n",
       "    </tr>\n",
       "    <tr>\n",
       "      <th>Method</th>\n",
       "      <th></th>\n",
       "      <th></th>\n",
       "      <th></th>\n",
       "      <th></th>\n",
       "      <th></th>\n",
       "    </tr>\n",
       "  </thead>\n",
       "  <tbody>\n",
       "    <tr>\n",
       "      <th>Lex-DE</th>\n",
       "      <td>0.156538</td>\n",
       "      <td>0.338594</td>\n",
       "      <td>0.623325</td>\n",
       "      <td>0.352327</td>\n",
       "      <td>0.169958</td>\n",
       "    </tr>\n",
       "    <tr>\n",
       "      <th>NSGA-II</th>\n",
       "      <td>0.256285</td>\n",
       "      <td>0.318746</td>\n",
       "      <td>0.498476</td>\n",
       "      <td>0.358834</td>\n",
       "      <td>0.097707</td>\n",
       "    </tr>\n",
       "    <tr>\n",
       "      <th>RVEA</th>\n",
       "      <td>0.683998</td>\n",
       "      <td>0.719160</td>\n",
       "      <td>0.952543</td>\n",
       "      <td>0.793080</td>\n",
       "      <td>0.122536</td>\n",
       "    </tr>\n",
       "  </tbody>\n",
       "</table>\n",
       "</div>"
      ],
      "text/plain": [
       "             amin    median      amax      mean       std\n",
       "Method                                                   \n",
       "Lex-DE   0.156538  0.338594  0.623325  0.352327  0.169958\n",
       "NSGA-II  0.256285  0.318746  0.498476  0.358834  0.097707\n",
       "RVEA     0.683998  0.719160  0.952543  0.793080  0.122536"
      ]
     },
     "execution_count": 14,
     "metadata": {},
     "output_type": "execute_result"
    }
   ],
   "source": [
    "ts2n_dist = pd.read_csv('ts2n.dist.csv')\n",
    "ts2n_dist.groupby('Method').aggregate([np.min, np.median, np.max, np.mean, np.std])['Average Case']"
   ]
  },
  {
   "cell_type": "code",
   "execution_count": 15,
   "id": "9df10591-1a9d-4aff-b825-6126f2d2213f",
   "metadata": {
    "execution": {
     "iopub.execute_input": "2021-10-07T16:11:45.876965Z",
     "iopub.status.busy": "2021-10-07T16:11:45.876347Z",
     "iopub.status.idle": "2021-10-07T16:11:45.927159Z",
     "shell.execute_reply": "2021-10-07T16:11:45.927672Z"
    }
   },
   "outputs": [
    {
     "name": "stderr",
     "output_type": "stream",
     "text": [
      "100%|█████████████████████████████████████████████| 3/3 [00:00<00:00, 64.48it/s]\n"
     ]
    }
   ],
   "source": [
    "dist = lambda df: np.linalg.norm(df, axis=1)\n",
    "with open('ts2n.dist.per.point.csv', 'w') as f:\n",
    "    print('Method,Repetition,Distance', file=f)\n",
    "for method in tqdm(method_names):\n",
    "    for rep in range(len(reps)):\n",
    "        df = ts2n_dat_processed[\n",
    "            (ts2n_dat_processed.is_nd) & (ts2n_dat_processed.Method==method) & (ts2n_dat_processed.Repetition==rep)\n",
    "        ][[f'{item}_scaled_by_all' for item in parameter_names]].values - ts2n_opt.Value.values\n",
    "        with open('ts2n.dist.per.point.csv', 'a') as f:\n",
    "            for d in dist(df):\n",
    "                print(method, rep, d, sep=',', file=f)"
   ]
  },
  {
   "cell_type": "code",
   "execution_count": 16,
   "id": "c8a807fa-8841-4619-a1f4-18820114039e",
   "metadata": {
    "execution": {
     "iopub.execute_input": "2021-10-07T16:11:45.937575Z",
     "iopub.status.busy": "2021-10-07T16:11:45.936958Z",
     "iopub.status.idle": "2021-10-07T16:11:45.940430Z",
     "shell.execute_reply": "2021-10-07T16:11:45.939813Z"
    }
   },
   "outputs": [
    {
     "data": {
      "text/html": [
       "<div>\n",
       "<style scoped>\n",
       "    .dataframe tbody tr th:only-of-type {\n",
       "        vertical-align: middle;\n",
       "    }\n",
       "\n",
       "    .dataframe tbody tr th {\n",
       "        vertical-align: top;\n",
       "    }\n",
       "\n",
       "    .dataframe thead th {\n",
       "        text-align: right;\n",
       "    }\n",
       "</style>\n",
       "<table border=\"1\" class=\"dataframe\">\n",
       "  <thead>\n",
       "    <tr style=\"text-align: right;\">\n",
       "      <th></th>\n",
       "      <th>Method</th>\n",
       "      <th>Repetition</th>\n",
       "      <th>Distance</th>\n",
       "    </tr>\n",
       "  </thead>\n",
       "  <tbody>\n",
       "    <tr>\n",
       "      <th>0</th>\n",
       "      <td>Lex-DE</td>\n",
       "      <td>0</td>\n",
       "      <td>0.350674</td>\n",
       "    </tr>\n",
       "    <tr>\n",
       "      <th>1</th>\n",
       "      <td>Lex-DE</td>\n",
       "      <td>1</td>\n",
       "      <td>0.156538</td>\n",
       "    </tr>\n",
       "    <tr>\n",
       "      <th>2</th>\n",
       "      <td>Lex-DE</td>\n",
       "      <td>2</td>\n",
       "      <td>0.623325</td>\n",
       "    </tr>\n",
       "  </tbody>\n",
       "</table>\n",
       "</div>"
      ],
      "text/plain": [
       "   Method  Repetition  Distance\n",
       "0  Lex-DE           0  0.350674\n",
       "1  Lex-DE           1  0.156538\n",
       "2  Lex-DE           2  0.623325"
      ]
     },
     "execution_count": 16,
     "metadata": {},
     "output_type": "execute_result"
    }
   ],
   "source": [
    "ts2n_dist_per_point = pd.read_csv('ts2n.dist.per.point.csv')\n",
    "ts2n_dist_per_point.head(3)"
   ]
  }
 ],
 "metadata": {
  "kernelspec": {
   "display_name": "Python 3 (ipykernel)",
   "language": "python",
   "name": "python3"
  },
  "language_info": {
   "codemirror_mode": {
    "name": "ipython",
    "version": 3
   },
   "file_extension": ".py",
   "mimetype": "text/x-python",
   "name": "python",
   "nbconvert_exporter": "python",
   "pygments_lexer": "ipython3",
   "version": "3.9.7"
  }
 },
 "nbformat": 4,
 "nbformat_minor": 5
}

{
 "cells": [
  {
   "cell_type": "code",
   "execution_count": 1,
   "id": "3b2b1d32-ad55-4c4a-8afd-8cefc2cdd27e",
   "metadata": {
    "execution": {
     "iopub.execute_input": "2021-10-07T16:14:01.242211Z",
     "iopub.status.busy": "2021-10-07T16:14:01.231097Z",
     "iopub.status.idle": "2021-10-07T16:14:02.311957Z",
     "shell.execute_reply": "2021-10-07T16:14:02.311311Z"
    },
    "tags": []
   },
   "outputs": [],
   "source": [
    "# Import all neccessary libraries\n",
    "# table data handling\n",
    "import numpy as np\n",
    "import pandas as pd\n",
    "from sklearn.preprocessing import MinMaxScaler\n",
    "# multiobjective optimization related\n",
    "from pymoo.util.nds.fast_non_dominated_sort import fast_non_dominated_sort as ndsort\n",
    "from pymoo.factory import get_performance_indicator\n",
    "# plotting\n",
    "import matplotlib.pyplot as plt\n",
    "import matplotlib.patches as mpatches\n",
    "import seaborn as sns\n",
    "import utils\n",
    "# others\n",
    "from tqdm import tqdm"
   ]
  },
  {
   "cell_type": "code",
   "execution_count": 2,
   "id": "fc3c725f-8e67-4b98-a0e9-b98bdd7973a5",
   "metadata": {
    "execution": {
     "iopub.execute_input": "2021-10-07T16:14:02.316822Z",
     "iopub.status.busy": "2021-10-07T16:14:02.316203Z",
     "iopub.status.idle": "2021-10-07T16:14:02.318813Z",
     "shell.execute_reply": "2021-10-07T16:14:02.318287Z"
    },
    "tags": []
   },
   "outputs": [],
   "source": [
    "sns.set_style(\"white\")\n",
    "sns.set_palette([\"black\", \"blue\", \"red\"])\n",
    "sns.set_context(\"paper\", font_scale=1.5)"
   ]
  },
  {
   "cell_type": "markdown",
   "id": "1727442d",
   "metadata": {},
   "source": [
    "## Read data"
   ]
  },
  {
   "cell_type": "code",
   "execution_count": 3,
   "id": "6e23604e-e051-4124-b88d-783cf74a5912",
   "metadata": {
    "execution": {
     "iopub.execute_input": "2021-10-07T16:14:02.326347Z",
     "iopub.status.busy": "2021-10-07T16:14:02.325719Z",
     "iopub.status.idle": "2021-10-07T16:14:37.895704Z",
     "shell.execute_reply": "2021-10-07T16:14:37.896673Z"
    },
    "tags": []
   },
   "outputs": [
    {
     "name": "stderr",
     "output_type": "stream",
     "text": [
      "3it [00:23,  7.92s/it]\n"
     ]
    },
    {
     "data": {
      "text/html": [
       "<div>\n",
       "<style scoped>\n",
       "    .dataframe tbody tr th:only-of-type {\n",
       "        vertical-align: middle;\n",
       "    }\n",
       "\n",
       "    .dataframe tbody tr th {\n",
       "        vertical-align: top;\n",
       "    }\n",
       "\n",
       "    .dataframe thead th {\n",
       "        text-align: right;\n",
       "    }\n",
       "</style>\n",
       "<table border=\"1\" class=\"dataframe\">\n",
       "  <thead>\n",
       "    <tr style=\"text-align: right;\">\n",
       "      <th></th>\n",
       "      <th>failed</th>\n",
       "      <th>well</th>\n",
       "      <th>eval</th>\n",
       "      <th>WOPR:P-F-12</th>\n",
       "      <th>WOPR:P-F-14</th>\n",
       "      <th>WOPR:P-F-15C</th>\n",
       "      <th>WWPR:P-F-12</th>\n",
       "      <th>WWPR:P-F-14</th>\n",
       "      <th>WWPR:P-F-15C</th>\n",
       "      <th>WWCT:P-F-12</th>\n",
       "      <th>...</th>\n",
       "      <th>WWPT:P-F-15C</th>\n",
       "      <th>fit</th>\n",
       "      <th>fit_well</th>\n",
       "      <th>fit_seis</th>\n",
       "      <th>fitP-F-12</th>\n",
       "      <th>fitP-F-14</th>\n",
       "      <th>fitP-F-15C</th>\n",
       "      <th>Method</th>\n",
       "      <th>Repetition</th>\n",
       "      <th>is_nd</th>\n",
       "    </tr>\n",
       "  </thead>\n",
       "  <tbody>\n",
       "    <tr>\n",
       "      <th>0</th>\n",
       "      <td>False</td>\n",
       "      <td>results_2021-04-28_0000_fzylexide_synth_seed10...</td>\n",
       "      <td>1</td>\n",
       "      <td>0.271744</td>\n",
       "      <td>0.433714</td>\n",
       "      <td>1001</td>\n",
       "      <td>0.066668</td>\n",
       "      <td>0.250752</td>\n",
       "      <td>1001</td>\n",
       "      <td>0.108631</td>\n",
       "      <td>...</td>\n",
       "      <td>NaN</td>\n",
       "      <td>0.282173</td>\n",
       "      <td>0.282173</td>\n",
       "      <td>0.0</td>\n",
       "      <td>1.725511</td>\n",
       "      <td>3.071427</td>\n",
       "      <td>NaN</td>\n",
       "      <td>Lex-DE</td>\n",
       "      <td>0</td>\n",
       "      <td>False</td>\n",
       "    </tr>\n",
       "    <tr>\n",
       "      <th>1</th>\n",
       "      <td>False</td>\n",
       "      <td>results_2021-04-28_0000_fzylexide_synth_seed10...</td>\n",
       "      <td>2</td>\n",
       "      <td>0.237430</td>\n",
       "      <td>0.533494</td>\n",
       "      <td>1001</td>\n",
       "      <td>0.040683</td>\n",
       "      <td>0.362872</td>\n",
       "      <td>1001</td>\n",
       "      <td>0.069300</td>\n",
       "      <td>...</td>\n",
       "      <td>1001.0</td>\n",
       "      <td>294.751521</td>\n",
       "      <td>294.751521</td>\n",
       "      <td>0.0</td>\n",
       "      <td>1.298048</td>\n",
       "      <td>4.071807</td>\n",
       "      <td>5005.406000</td>\n",
       "      <td>Lex-DE</td>\n",
       "      <td>0</td>\n",
       "      <td>False</td>\n",
       "    </tr>\n",
       "    <tr>\n",
       "      <th>2</th>\n",
       "      <td>False</td>\n",
       "      <td>results_2021-04-28_0000_fzylexide_synth_seed10...</td>\n",
       "      <td>3</td>\n",
       "      <td>0.270819</td>\n",
       "      <td>0.387546</td>\n",
       "      <td>1001</td>\n",
       "      <td>0.158892</td>\n",
       "      <td>0.180821</td>\n",
       "      <td>1001</td>\n",
       "      <td>0.101661</td>\n",
       "      <td>...</td>\n",
       "      <td>1001.0</td>\n",
       "      <td>294.778490</td>\n",
       "      <td>294.778490</td>\n",
       "      <td>0.0</td>\n",
       "      <td>2.474621</td>\n",
       "      <td>3.316522</td>\n",
       "      <td>5005.443188</td>\n",
       "      <td>Lex-DE</td>\n",
       "      <td>0</td>\n",
       "      <td>False</td>\n",
       "    </tr>\n",
       "  </tbody>\n",
       "</table>\n",
       "<p>3 rows × 30 columns</p>\n",
       "</div>"
      ],
      "text/plain": [
       "   failed                                               well  eval  \\\n",
       "0   False  results_2021-04-28_0000_fzylexide_synth_seed10...     1   \n",
       "1   False  results_2021-04-28_0000_fzylexide_synth_seed10...     2   \n",
       "2   False  results_2021-04-28_0000_fzylexide_synth_seed10...     3   \n",
       "\n",
       "   WOPR:P-F-12  WOPR:P-F-14  WOPR:P-F-15C  WWPR:P-F-12  WWPR:P-F-14  \\\n",
       "0     0.271744     0.433714          1001     0.066668     0.250752   \n",
       "1     0.237430     0.533494          1001     0.040683     0.362872   \n",
       "2     0.270819     0.387546          1001     0.158892     0.180821   \n",
       "\n",
       "   WWPR:P-F-15C  WWCT:P-F-12  ...  WWPT:P-F-15C         fit    fit_well  \\\n",
       "0          1001     0.108631  ...           NaN    0.282173    0.282173   \n",
       "1          1001     0.069300  ...        1001.0  294.751521  294.751521   \n",
       "2          1001     0.101661  ...        1001.0  294.778490  294.778490   \n",
       "\n",
       "   fit_seis  fitP-F-12  fitP-F-14   fitP-F-15C  Method  Repetition  is_nd  \n",
       "0       0.0   1.725511   3.071427          NaN  Lex-DE           0  False  \n",
       "1       0.0   1.298048   4.071807  5005.406000  Lex-DE           0  False  \n",
       "2       0.0   2.474621   3.316522  5005.443188  Lex-DE           0  False  \n",
       "\n",
       "[3 rows x 30 columns]"
      ]
     },
     "execution_count": 3,
     "metadata": {},
     "output_type": "execute_result"
    }
   ],
   "source": [
    "# Read data of volve_pred problem\n",
    "method_file_names = ['lexide', 'nsga', 'rvea']\n",
    "method_names = ['Lex-DE', 'NSGA-II', 'RVEA']\n",
    "reps = [1000,1001,1002,2000,2001]\n",
    "\n",
    "objective_sim_names = ['fitP-F-14', 'fitP-F-12']\n",
    "objective_cod_names = ['P-F-14', 'P-F-12']\n",
    "\n",
    "volve_pred_hdfs = []\n",
    "for i, method_file_name in tqdm(enumerate(method_file_names)):\n",
    "    for j, rep in enumerate(reps):\n",
    "        tmp = pd.read_hdf(f'volve-pred/{method_file_name}_{rep}_predicted_fit.hdf5').sort_values(['eval'], ignore_index=True)\n",
    "        tmp['Method'] = method_names[i] # specify the method\n",
    "        tmp['Repetition'] = j           # specify the repetition\n",
    "        tmp_obj_val = tmp[objective_sim_names].values\n",
    "        nd_idx = ndsort(tmp_obj_val)[0]\n",
    "        is_nd = np.array([False]*len(tmp))\n",
    "        is_nd[nd_idx] = True\n",
    "        tmp['is_nd'] = list(is_nd)      # specify whether the individual is non-dominated\n",
    "        volve_pred_hdfs.append(tmp)\n",
    "volve_pred_dat = pd.concat(volve_pred_hdfs).sort_values(['Method','Repetition','eval'])\n",
    "volve_pred_dat.head(3)"
   ]
  },
  {
   "cell_type": "markdown",
   "id": "faebd79d",
   "metadata": {},
   "source": [
    "## Preprocessing\n",
    "\n",
    "1. scale the five objective values into $[0,1]$ based on all individuals\n",
    "2. scale the five objective values into $[0,1]$ based on non-dominated individuals\n",
    "3. scale the 61 parameter values into $[0,1]$ based on all individuals"
   ]
  },
  {
   "cell_type": "code",
   "execution_count": 4,
   "id": "410dc33f-2582-40e8-8033-2705b03790bb",
   "metadata": {
    "execution": {
     "iopub.execute_input": "2021-10-07T16:14:37.909104Z",
     "iopub.status.busy": "2021-10-07T16:14:37.908046Z",
     "iopub.status.idle": "2021-10-07T16:14:39.453687Z",
     "shell.execute_reply": "2021-10-07T16:14:39.453118Z"
    },
    "tags": []
   },
   "outputs": [],
   "source": [
    "# Scale the objective values and parameter values between 0 and 1\n",
    "scaler = MinMaxScaler()\n",
    "\n",
    "# scale by all individuals in 3 methods x 5 repetitions x 1500 evaluations\n",
    "volve_pred_fit_scaled_by_all = scaler.fit_transform(volve_pred_dat[objective_sim_names].to_numpy())\n",
    "volve_pred_fit_scaled_by_all = pd.DataFrame(volve_pred_fit_scaled_by_all, columns=[f'{item}_scaled_by_all' for item in objective_sim_names])\n",
    "\n",
    "# scale by all individuals in 3 methods x 5 repetitions x number of non-dominated individuals\n",
    "volve_pred_fit_scaled_by_nd = scaler.fit(volve_pred_dat[volve_pred_dat.is_nd][objective_sim_names].to_numpy()).transform(volve_pred_dat[objective_sim_names].to_numpy())\n",
    "volve_pred_fit_scaled_by_nd = pd.DataFrame(volve_pred_fit_scaled_by_nd, columns=[f'{item}_scaled_by_nd' for item in objective_sim_names])\n",
    "\n",
    "volve_pred_dat_processed = pd.concat([\n",
    "    volve_pred_dat.reset_index(drop=True),\n",
    "    volve_pred_fit_scaled_by_all.reset_index(drop=True),\n",
    "    volve_pred_fit_scaled_by_nd.reset_index(drop=True)\n",
    "], axis=1)\n",
    "\n",
    "volve_pred_dat_processed.to_csv('volve_pred.processed.csv', index=False) # save to csv"
   ]
  },
  {
   "cell_type": "code",
   "execution_count": 5,
   "id": "1ecd6812-3ea5-451c-b472-bc12455fca20",
   "metadata": {
    "execution": {
     "iopub.execute_input": "2021-10-07T16:14:39.457654Z",
     "iopub.status.busy": "2021-10-07T16:14:39.456274Z",
     "iopub.status.idle": "2021-10-07T16:14:39.877644Z",
     "shell.execute_reply": "2021-10-07T16:14:39.878547Z"
    },
    "tags": []
   },
   "outputs": [
    {
     "data": {
      "text/html": [
       "<div>\n",
       "<style scoped>\n",
       "    .dataframe tbody tr th:only-of-type {\n",
       "        vertical-align: middle;\n",
       "    }\n",
       "\n",
       "    .dataframe tbody tr th {\n",
       "        vertical-align: top;\n",
       "    }\n",
       "\n",
       "    .dataframe thead th {\n",
       "        text-align: right;\n",
       "    }\n",
       "</style>\n",
       "<table border=\"1\" class=\"dataframe\">\n",
       "  <thead>\n",
       "    <tr style=\"text-align: right;\">\n",
       "      <th></th>\n",
       "      <th>failed</th>\n",
       "      <th>well</th>\n",
       "      <th>eval</th>\n",
       "      <th>WOPR:P-F-12</th>\n",
       "      <th>WOPR:P-F-14</th>\n",
       "      <th>WOPR:P-F-15C</th>\n",
       "      <th>WWPR:P-F-12</th>\n",
       "      <th>WWPR:P-F-14</th>\n",
       "      <th>WWPR:P-F-15C</th>\n",
       "      <th>WWCT:P-F-12</th>\n",
       "      <th>...</th>\n",
       "      <th>fitP-F-12</th>\n",
       "      <th>fitP-F-14</th>\n",
       "      <th>fitP-F-15C</th>\n",
       "      <th>Method</th>\n",
       "      <th>Repetition</th>\n",
       "      <th>is_nd</th>\n",
       "      <th>fitP-F-14_scaled_by_all</th>\n",
       "      <th>fitP-F-12_scaled_by_all</th>\n",
       "      <th>fitP-F-14_scaled_by_nd</th>\n",
       "      <th>fitP-F-12_scaled_by_nd</th>\n",
       "    </tr>\n",
       "  </thead>\n",
       "  <tbody>\n",
       "    <tr>\n",
       "      <th>0</th>\n",
       "      <td>False</td>\n",
       "      <td>results_2021-04-28_0000_fzylexide_synth_seed10...</td>\n",
       "      <td>1</td>\n",
       "      <td>0.271744</td>\n",
       "      <td>0.433714</td>\n",
       "      <td>1001</td>\n",
       "      <td>0.066668</td>\n",
       "      <td>0.250752</td>\n",
       "      <td>1001</td>\n",
       "      <td>0.108631</td>\n",
       "      <td>...</td>\n",
       "      <td>1.725511</td>\n",
       "      <td>3.071427</td>\n",
       "      <td>NaN</td>\n",
       "      <td>Lex-DE</td>\n",
       "      <td>0</td>\n",
       "      <td>False</td>\n",
       "      <td>0.000247</td>\n",
       "      <td>0.000134</td>\n",
       "      <td>0.311539</td>\n",
       "      <td>0.534860</td>\n",
       "    </tr>\n",
       "    <tr>\n",
       "      <th>1</th>\n",
       "      <td>False</td>\n",
       "      <td>results_2021-04-28_0000_fzylexide_synth_seed10...</td>\n",
       "      <td>2</td>\n",
       "      <td>0.237430</td>\n",
       "      <td>0.533494</td>\n",
       "      <td>1001</td>\n",
       "      <td>0.040683</td>\n",
       "      <td>0.362872</td>\n",
       "      <td>1001</td>\n",
       "      <td>0.069300</td>\n",
       "      <td>...</td>\n",
       "      <td>1.298048</td>\n",
       "      <td>4.071807</td>\n",
       "      <td>5005.406000</td>\n",
       "      <td>Lex-DE</td>\n",
       "      <td>0</td>\n",
       "      <td>False</td>\n",
       "      <td>0.000330</td>\n",
       "      <td>0.000099</td>\n",
       "      <td>0.416707</td>\n",
       "      <td>0.393082</td>\n",
       "    </tr>\n",
       "    <tr>\n",
       "      <th>2</th>\n",
       "      <td>False</td>\n",
       "      <td>results_2021-04-28_0000_fzylexide_synth_seed10...</td>\n",
       "      <td>3</td>\n",
       "      <td>0.270819</td>\n",
       "      <td>0.387546</td>\n",
       "      <td>1001</td>\n",
       "      <td>0.158892</td>\n",
       "      <td>0.180821</td>\n",
       "      <td>1001</td>\n",
       "      <td>0.101661</td>\n",
       "      <td>...</td>\n",
       "      <td>2.474621</td>\n",
       "      <td>3.316522</td>\n",
       "      <td>5005.443188</td>\n",
       "      <td>Lex-DE</td>\n",
       "      <td>0</td>\n",
       "      <td>False</td>\n",
       "      <td>0.000267</td>\n",
       "      <td>0.000197</td>\n",
       "      <td>0.337305</td>\n",
       "      <td>0.783320</td>\n",
       "    </tr>\n",
       "  </tbody>\n",
       "</table>\n",
       "<p>3 rows × 34 columns</p>\n",
       "</div>"
      ],
      "text/plain": [
       "   failed                                               well  eval  \\\n",
       "0   False  results_2021-04-28_0000_fzylexide_synth_seed10...     1   \n",
       "1   False  results_2021-04-28_0000_fzylexide_synth_seed10...     2   \n",
       "2   False  results_2021-04-28_0000_fzylexide_synth_seed10...     3   \n",
       "\n",
       "   WOPR:P-F-12  WOPR:P-F-14  WOPR:P-F-15C  WWPR:P-F-12  WWPR:P-F-14  \\\n",
       "0     0.271744     0.433714          1001     0.066668     0.250752   \n",
       "1     0.237430     0.533494          1001     0.040683     0.362872   \n",
       "2     0.270819     0.387546          1001     0.158892     0.180821   \n",
       "\n",
       "   WWPR:P-F-15C  WWCT:P-F-12  ...  fitP-F-12  fitP-F-14   fitP-F-15C  Method  \\\n",
       "0          1001     0.108631  ...   1.725511   3.071427          NaN  Lex-DE   \n",
       "1          1001     0.069300  ...   1.298048   4.071807  5005.406000  Lex-DE   \n",
       "2          1001     0.101661  ...   2.474621   3.316522  5005.443188  Lex-DE   \n",
       "\n",
       "   Repetition  is_nd  fitP-F-14_scaled_by_all  fitP-F-12_scaled_by_all  \\\n",
       "0           0  False                 0.000247                 0.000134   \n",
       "1           0  False                 0.000330                 0.000099   \n",
       "2           0  False                 0.000267                 0.000197   \n",
       "\n",
       "   fitP-F-14_scaled_by_nd  fitP-F-12_scaled_by_nd  \n",
       "0                0.311539                0.534860  \n",
       "1                0.416707                0.393082  \n",
       "2                0.337305                0.783320  \n",
       "\n",
       "[3 rows x 34 columns]"
      ]
     },
     "execution_count": 5,
     "metadata": {},
     "output_type": "execute_result"
    }
   ],
   "source": [
    "volve_pred_dat_processed = pd.read_csv('volve_pred.processed.csv')\n",
    "volve_pred_dat_processed.head(3)"
   ]
  },
  {
   "cell_type": "markdown",
   "id": "a7b863c8",
   "metadata": {},
   "source": [
    "## Scaled hypervolume"
   ]
  },
  {
   "cell_type": "code",
   "execution_count": 6,
   "id": "d3ba89b5-68b0-4b6a-867a-2cbb73f49847",
   "metadata": {
    "execution": {
     "iopub.execute_input": "2021-10-07T16:14:39.886462Z",
     "iopub.status.busy": "2021-10-07T16:14:39.885367Z",
     "iopub.status.idle": "2021-10-07T16:14:39.962041Z",
     "shell.execute_reply": "2021-10-07T16:14:39.961467Z"
    },
    "tags": []
   },
   "outputs": [],
   "source": [
    "# Compute hypervolume\n",
    "with open('volve_pred.hv.csv', 'w') as f:\n",
    "    print('Method', 'Repetition', 'Hypervolume', sep=',', file=f)\n",
    "hv_calculator = get_performance_indicator('hv', ref_point=np.ones(len(objective_sim_names)))\n",
    "for method_name in method_names:\n",
    "    for rep in range(len(reps)):\n",
    "        nd_ind = volve_pred_dat_processed[\n",
    "            (volve_pred_dat_processed.is_nd) & (volve_pred_dat_processed.Method==method_name) & (volve_pred_dat_processed.Repetition==rep)\n",
    "        ][[f'{item}_scaled_by_nd' for item in objective_sim_names]].values\n",
    "        with open('volve_pred.hv.csv', 'a') as f:\n",
    "            print(method_name, rep, hv_calculator.do(nd_ind), sep=',', file=f)\n",
    "volve_pred_hv = pd.read_csv('volve_pred.hv.csv')"
   ]
  },
  {
   "cell_type": "code",
   "execution_count": 7,
   "id": "4c2e93d6-83f3-41bd-ab2f-1611a0493184",
   "metadata": {
    "execution": {
     "iopub.execute_input": "2021-10-07T16:14:39.976121Z",
     "iopub.status.busy": "2021-10-07T16:14:39.973765Z",
     "iopub.status.idle": "2021-10-07T16:14:39.987365Z",
     "shell.execute_reply": "2021-10-07T16:14:39.986821Z"
    },
    "tags": []
   },
   "outputs": [
    {
     "data": {
      "text/html": [
       "<div>\n",
       "<style scoped>\n",
       "    .dataframe tbody tr th:only-of-type {\n",
       "        vertical-align: middle;\n",
       "    }\n",
       "\n",
       "    .dataframe tbody tr th {\n",
       "        vertical-align: top;\n",
       "    }\n",
       "\n",
       "    .dataframe thead th {\n",
       "        text-align: right;\n",
       "    }\n",
       "</style>\n",
       "<table border=\"1\" class=\"dataframe\">\n",
       "  <thead>\n",
       "    <tr style=\"text-align: right;\">\n",
       "      <th></th>\n",
       "      <th>max</th>\n",
       "      <th>argmax</th>\n",
       "      <th>median</th>\n",
       "      <th>min</th>\n",
       "      <th>mean</th>\n",
       "      <th>std</th>\n",
       "    </tr>\n",
       "    <tr>\n",
       "      <th>Method</th>\n",
       "      <th></th>\n",
       "      <th></th>\n",
       "      <th></th>\n",
       "      <th></th>\n",
       "      <th></th>\n",
       "      <th></th>\n",
       "    </tr>\n",
       "  </thead>\n",
       "  <tbody>\n",
       "    <tr>\n",
       "      <th>Lex-DE</th>\n",
       "      <td>0.949647</td>\n",
       "      <td>4</td>\n",
       "      <td>0.839987</td>\n",
       "      <td>0.746407</td>\n",
       "      <td>0.857895</td>\n",
       "      <td>0.078827</td>\n",
       "    </tr>\n",
       "    <tr>\n",
       "      <th>NSGA-II</th>\n",
       "      <td>0.967404</td>\n",
       "      <td>1</td>\n",
       "      <td>0.935233</td>\n",
       "      <td>0.823441</td>\n",
       "      <td>0.915995</td>\n",
       "      <td>0.054812</td>\n",
       "    </tr>\n",
       "    <tr>\n",
       "      <th>RVEA</th>\n",
       "      <td>0.926832</td>\n",
       "      <td>3</td>\n",
       "      <td>0.840399</td>\n",
       "      <td>0.745620</td>\n",
       "      <td>0.840735</td>\n",
       "      <td>0.064820</td>\n",
       "    </tr>\n",
       "  </tbody>\n",
       "</table>\n",
       "</div>"
      ],
      "text/plain": [
       "              max  argmax    median       min      mean       std\n",
       "Method                                                           \n",
       "Lex-DE   0.949647       4  0.839987  0.746407  0.857895  0.078827\n",
       "NSGA-II  0.967404       1  0.935233  0.823441  0.915995  0.054812\n",
       "RVEA     0.926832       3  0.840399  0.745620  0.840735  0.064820"
      ]
     },
     "execution_count": 7,
     "metadata": {},
     "output_type": "execute_result"
    }
   ],
   "source": [
    "# Get statistics\n",
    "volve_pred_hv.groupby(['Method']).aggregate([max, np.argmax, np.median, min, np.mean, np.std]).Hypervolume"
   ]
  },
  {
   "cell_type": "markdown",
   "id": "47468f05",
   "metadata": {},
   "source": [
    "## Lineplot for the objectives by generations"
   ]
  },
  {
   "cell_type": "code",
   "execution_count": 8,
   "id": "e2cc475a-56ea-4e88-ad74-7f1a06e51e4f",
   "metadata": {
    "execution": {
     "iopub.execute_input": "2021-10-07T16:14:40.027708Z",
     "iopub.status.busy": "2021-10-07T16:14:40.010540Z",
     "iopub.status.idle": "2021-10-07T16:14:55.364525Z",
     "shell.execute_reply": "2021-10-07T16:14:55.363877Z"
    },
    "tags": []
   },
   "outputs": [
    {
     "data": {
      "image/png": "[encoded data removed]",
      "text/plain": [
       "<Figure size 460.8x345.6 with 1 Axes>"
      ]
     },
     "metadata": {},
     "output_type": "display_data"
    },
    {
     "data": {
      "text/plain": [
       "<Figure size 432x288 with 0 Axes>"
      ]
     },
     "metadata": {},
     "output_type": "display_data"
    },
    {
     "data": {
      "image/png": "[encoded data removed]",
      "text/plain": [
       "<Figure size 460.8x345.6 with 1 Axes>"
      ]
     },
     "metadata": {},
     "output_type": "display_data"
    },
    {
     "data": {
      "text/plain": [
       "<Figure size 432x288 with 0 Axes>"
      ]
     },
     "metadata": {},
     "output_type": "display_data"
    }
   ],
   "source": [
    "for i, objective_sim_name in enumerate(objective_sim_names):\n",
    "    sns.set_context(\"paper\", font_scale=2.5)\n",
    "    fig = plt.figure(figsize=(6.4,4.8))\n",
    "    ax = fig.add_subplot(111)\n",
    "    plt.subplots_adjust(left=0.2, bottom=0.2, right=0.6, top=1)\n",
    "    best_fit_dats = []\n",
    "    for method_name in method_names:\n",
    "        for rep in range(len(reps)):\n",
    "            tmp = utils.best_by_gen(\n",
    "                volve_pred_dat_processed[\n",
    "                    (volve_pred_dat_processed.Method==method_name) & \\\n",
    "                    (volve_pred_dat_processed.Repetition==rep)\n",
    "                ][f'{objective_sim_name}_scaled_by_all'].values,\n",
    "                fit_name=objective_cod_names[i]\n",
    "            )\n",
    "            tmp['Method'] = method_name\n",
    "            tmp['Repetition'] = rep \n",
    "            best_fit_dats.append(tmp)\n",
    "    best_fit_dats = pd.concat(best_fit_dats).reset_index(drop=False)\n",
    "    sns.lineplot(data=best_fit_dats,\n",
    "                 x='Generation', y=f'Best {objective_cod_names[i]}',\n",
    "                 hue='Method', style='Method',\n",
    "                 err_style=\"bars\", err_kws={\"errorevery\": 10,\n",
    "                                            \"capsize\": 5})\n",
    "    plt.legend(title='', frameon=False, bbox_to_anchor=(1,1))\n",
    "    plt.yscale('log')\n",
    "    plt.savefig(f'volve-pred.{objective_cod_names[i]}.eps')\n",
    "    plt.show()\n",
    "    plt.clf()"
   ]
  },
  {
   "cell_type": "markdown",
   "id": "5ed45b3e",
   "metadata": {},
   "source": [
    "## Scatterplot for the non-dominated solutions in all runs"
   ]
  },
  {
   "cell_type": "code",
   "execution_count": 15,
   "id": "09dff557-ad96-40bc-b9ae-e26c769b8035",
   "metadata": {
    "execution": {
     "iopub.execute_input": "2021-10-07T16:14:55.414169Z",
     "iopub.status.busy": "2021-10-07T16:14:55.400494Z",
     "iopub.status.idle": "2021-10-07T16:14:57.019090Z",
     "shell.execute_reply": "2021-10-07T16:14:57.018566Z"
    }
   },
   "outputs": [
    {
     "name": "stderr",
     "output_type": "stream",
     "text": [
      "The PostScript backend does not support transparency; partially transparent artists will be rendered opaque.\n",
      "The PostScript backend does not support transparency; partially transparent artists will be rendered opaque.\n",
      "The PostScript backend does not support transparency; partially transparent artists will be rendered opaque.\n",
      "The PostScript backend does not support transparency; partially transparent artists will be rendered opaque.\n",
      "The PostScript backend does not support transparency; partially transparent artists will be rendered opaque.\n",
      "The PostScript backend does not support transparency; partially transparent artists will be rendered opaque.\n",
      "The PostScript backend does not support transparency; partially transparent artists will be rendered opaque.\n",
      "The PostScript backend does not support transparency; partially transparent artists will be rendered opaque.\n",
      "The PostScript backend does not support transparency; partially transparent artists will be rendered opaque.\n",
      "The PostScript backend does not support transparency; partially transparent artists will be rendered opaque.\n",
      "The PostScript backend does not support transparency; partially transparent artists will be rendered opaque.\n",
      "The PostScript backend does not support transparency; partially transparent artists will be rendered opaque.\n",
      "The PostScript backend does not support transparency; partially transparent artists will be rendered opaque.\n",
      "The PostScript backend does not support transparency; partially transparent artists will be rendered opaque.\n",
      "The PostScript backend does not support transparency; partially transparent artists will be rendered opaque.\n",
      "The PostScript backend does not support transparency; partially transparent artists will be rendered opaque.\n",
      "The PostScript backend does not support transparency; partially transparent artists will be rendered opaque.\n",
      "The PostScript backend does not support transparency; partially transparent artists will be rendered opaque.\n",
      "The PostScript backend does not support transparency; partially transparent artists will be rendered opaque.\n",
      "The PostScript backend does not support transparency; partially transparent artists will be rendered opaque.\n",
      "The PostScript backend does not support transparency; partially transparent artists will be rendered opaque.\n",
      "The PostScript backend does not support transparency; partially transparent artists will be rendered opaque.\n",
      "The PostScript backend does not support transparency; partially transparent artists will be rendered opaque.\n",
      "The PostScript backend does not support transparency; partially transparent artists will be rendered opaque.\n",
      "The PostScript backend does not support transparency; partially transparent artists will be rendered opaque.\n",
      "The PostScript backend does not support transparency; partially transparent artists will be rendered opaque.\n",
      "The PostScript backend does not support transparency; partially transparent artists will be rendered opaque.\n",
      "The PostScript backend does not support transparency; partially transparent artists will be rendered opaque.\n",
      "The PostScript backend does not support transparency; partially transparent artists will be rendered opaque.\n",
      "The PostScript backend does not support transparency; partially transparent artists will be rendered opaque.\n",
      "The PostScript backend does not support transparency; partially transparent artists will be rendered opaque.\n",
      "The PostScript backend does not support transparency; partially transparent artists will be rendered opaque.\n",
      "The PostScript backend does not support transparency; partially transparent artists will be rendered opaque.\n",
      "The PostScript backend does not support transparency; partially transparent artists will be rendered opaque.\n"
     ]
    },
    {
     "data": {
      "image/png": "[encoded data removed]",
      "text/plain": [
       "<Figure size 460.8x345.6 with 2 Axes>"
      ]
     },
     "metadata": {},
     "output_type": "display_data"
    }
   ],
   "source": [
    "data = volve_pred_dat_processed[\n",
    "        volve_pred_dat_processed.is_nd\n",
    "    ][[f'{item}_scaled_by_nd' for item in objective_sim_names]+['Method', 'Repetition']]\n",
    "data.columns = objective_cod_names + ['Method', 'Repetition']\n",
    "\n",
    "# plot\n",
    "sns.set_context(\"paper\", font_scale=1.5, rc={\"lines.linewidth\": 2})\n",
    "fig = plt.figure(figsize=(6.4,4.8))\n",
    "plt.subplots_adjust(left=0.15, bottom=0.2, right=1, top=1, wspace=0.05)\n",
    "\n",
    "ax1 = fig.add_subplot(121)\n",
    "sns.lineplot(\n",
    "    data=data[data.Repetition==0], x='P-F-14', y='P-F-12',\n",
    "    hue='Method', style='Method', markers=['o', 'X', 's'], ax=ax1, legend=False\n",
    ")\n",
    "sns.lineplot(\n",
    "    data=data[data.Repetition==1], x='P-F-14', y='P-F-12',\n",
    "    hue='Method', style='Method', markers=['o', 'X', 's'], ax=ax1, legend=False\n",
    ")\n",
    "sns.lineplot(\n",
    "    data=data[data.Repetition==2], x='P-F-14', y='P-F-12',\n",
    "    hue='Method', style='Method', markers=['o', 'X', 's'], ax=ax1, legend=False\n",
    ")\n",
    "sns.lineplot(\n",
    "    data=data[data.Repetition==3], x='P-F-14', y='P-F-12',\n",
    "    hue='Method', style='Method', markers=['o', 'X', 's'], ax=ax1, legend=False\n",
    ")\n",
    "sns.lineplot(\n",
    "    data=data[data.Repetition==4], x='P-F-14', y='P-F-12',\n",
    "    hue='Method', style='Method', markers=['o', 'X', 's'], ax=ax1\n",
    ")\n",
    "rect=mpatches.Rectangle((0,0),0.2,0.2, \n",
    "                        fill=False,\n",
    "                        color=\"black\",\n",
    "                        linewidth=2)\n",
    "\n",
    "plt.gca().add_patch(rect)\n",
    "\n",
    "ax2 = fig.add_subplot(122)\n",
    "sns.lineplot(\n",
    "    data=data[data.Repetition==0], x='P-F-14', y='P-F-12',\n",
    "    hue='Method', style='Method', markers=['o', 'X', 's'], ax=ax2, legend=False\n",
    ")\n",
    "sns.lineplot(\n",
    "    data=data[data.Repetition==1], x='P-F-14', y='P-F-12',\n",
    "    hue='Method', style='Method', markers=['o', 'X', 's'], ax=ax2, legend=False\n",
    ")\n",
    "sns.lineplot(\n",
    "    data=data[data.Repetition==2], x='P-F-14', y='P-F-12',\n",
    "    hue='Method', style='Method', markers=['o', 'X', 's'], ax=ax2, legend=False\n",
    ")\n",
    "sns.lineplot(\n",
    "    data=data[data.Repetition==3], x='P-F-14', y='P-F-12',\n",
    "    hue='Method', style='Method', markers=['o', 'X', 's'], ax=ax2, legend=False\n",
    ")\n",
    "sns.lineplot(\n",
    "    data=data[data.Repetition==4], x='P-F-14', y='P-F-12',\n",
    "    hue='Method', style='Method', markers=['o', 'X', 's'], ax=ax2, legend=False\n",
    ")\n",
    "ax2.set_xlim(0, 0.2)\n",
    "ax2.set_ylim(0, 0.2)\n",
    "ax2.set_xticks([])\n",
    "ax2.set_yticks([])\n",
    "ax2.set_xlabel(\"\")\n",
    "ax2.set_ylabel(\"\")\n",
    "\n",
    "ax1.text(0.25, 0.25, \"zoom in\\nat right\", fontstyle=\"oblique\")\n",
    "ax2.text(0.1, 0.18, \"zoom in\", fontstyle=\"oblique\")\n",
    "\n",
    "ax1.legend(title='', frameon=False)\n",
    "plt.savefig('volve-pred.scatter.eps')"
   ]
  }
 ],
 "metadata": {
  "kernelspec": {
   "display_name": "Python 3 (ipykernel)",
   "language": "python",
   "name": "python3"
  },
  "language_info": {
   "codemirror_mode": {
    "name": "ipython",
    "version": 3
   },
   "file_extension": ".py",
   "mimetype": "text/x-python",
   "name": "python",
   "nbconvert_exporter": "python",
   "pygments_lexer": "ipython3",
   "version": "3.9.8"
  }
 },
 "nbformat": 4,
 "nbformat_minor": 5
}
